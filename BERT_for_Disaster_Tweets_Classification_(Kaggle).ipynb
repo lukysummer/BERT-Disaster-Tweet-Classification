{
  "nbformat": 4,
  "nbformat_minor": 0,
  "metadata": {
    "colab": {
      "name": "BERT for Disaster Tweets Classification (Kaggle)",
      "provenance": [],
      "collapsed_sections": [],
      "toc_visible": true
    },
    "kernelspec": {
      "name": "python3",
      "display_name": "Python 3"
    },
    "accelerator": "GPU",
    "widgets": {
      "application/vnd.jupyter.widget-state+json": {
        "472bda58f12c4713a355f103f998dd65": {
          "model_module": "@jupyter-widgets/controls",
          "model_name": "HBoxModel",
          "state": {
            "_view_name": "HBoxView",
            "_dom_classes": [],
            "_model_name": "HBoxModel",
            "_view_module": "@jupyter-widgets/controls",
            "_model_module_version": "1.5.0",
            "_view_count": null,
            "_view_module_version": "1.5.0",
            "box_style": "",
            "layout": "IPY_MODEL_b00e563a45b54d5ba4603c42c01acbe6",
            "_model_module": "@jupyter-widgets/controls",
            "children": [
              "IPY_MODEL_aa42994a14dc47ea9c21015455267e66",
              "IPY_MODEL_5d95a48309cb42c997ec30931cd6234b"
            ]
          }
        },
        "b00e563a45b54d5ba4603c42c01acbe6": {
          "model_module": "@jupyter-widgets/base",
          "model_name": "LayoutModel",
          "state": {
            "_view_name": "LayoutView",
            "grid_template_rows": null,
            "right": null,
            "justify_content": null,
            "_view_module": "@jupyter-widgets/base",
            "overflow": null,
            "_model_module_version": "1.2.0",
            "_view_count": null,
            "flex_flow": null,
            "width": null,
            "min_width": null,
            "border": null,
            "align_items": null,
            "bottom": null,
            "_model_module": "@jupyter-widgets/base",
            "top": null,
            "grid_column": null,
            "overflow_y": null,
            "overflow_x": null,
            "grid_auto_flow": null,
            "grid_area": null,
            "grid_template_columns": null,
            "flex": null,
            "_model_name": "LayoutModel",
            "justify_items": null,
            "grid_row": null,
            "max_height": null,
            "align_content": null,
            "visibility": null,
            "align_self": null,
            "height": null,
            "min_height": null,
            "padding": null,
            "grid_auto_rows": null,
            "grid_gap": null,
            "max_width": null,
            "order": null,
            "_view_module_version": "1.2.0",
            "grid_template_areas": null,
            "object_position": null,
            "object_fit": null,
            "grid_auto_columns": null,
            "margin": null,
            "display": null,
            "left": null
          }
        },
        "aa42994a14dc47ea9c21015455267e66": {
          "model_module": "@jupyter-widgets/controls",
          "model_name": "FloatProgressModel",
          "state": {
            "_view_name": "ProgressView",
            "style": "IPY_MODEL_4f9a3d3640834e269ae50c79743c2994",
            "_dom_classes": [],
            "description": "Downloading: 100%",
            "_model_name": "FloatProgressModel",
            "bar_style": "success",
            "max": 231508,
            "_view_module": "@jupyter-widgets/controls",
            "_model_module_version": "1.5.0",
            "value": 231508,
            "_view_count": null,
            "_view_module_version": "1.5.0",
            "orientation": "horizontal",
            "min": 0,
            "description_tooltip": null,
            "_model_module": "@jupyter-widgets/controls",
            "layout": "IPY_MODEL_68ca69b4341a4283b18f6dff5a2c59ae"
          }
        },
        "5d95a48309cb42c997ec30931cd6234b": {
          "model_module": "@jupyter-widgets/controls",
          "model_name": "HTMLModel",
          "state": {
            "_view_name": "HTMLView",
            "style": "IPY_MODEL_d8aa8a9585e84146bd1f6e944b65479a",
            "_dom_classes": [],
            "description": "",
            "_model_name": "HTMLModel",
            "placeholder": "​",
            "_view_module": "@jupyter-widgets/controls",
            "_model_module_version": "1.5.0",
            "value": " 232k/232k [00:00&lt;00:00, 571kB/s]",
            "_view_count": null,
            "_view_module_version": "1.5.0",
            "description_tooltip": null,
            "_model_module": "@jupyter-widgets/controls",
            "layout": "IPY_MODEL_f9ef7309de24426ca91b3f1d642c1db7"
          }
        },
        "4f9a3d3640834e269ae50c79743c2994": {
          "model_module": "@jupyter-widgets/controls",
          "model_name": "ProgressStyleModel",
          "state": {
            "_view_name": "StyleView",
            "_model_name": "ProgressStyleModel",
            "description_width": "initial",
            "_view_module": "@jupyter-widgets/base",
            "_model_module_version": "1.5.0",
            "_view_count": null,
            "_view_module_version": "1.2.0",
            "bar_color": null,
            "_model_module": "@jupyter-widgets/controls"
          }
        },
        "68ca69b4341a4283b18f6dff5a2c59ae": {
          "model_module": "@jupyter-widgets/base",
          "model_name": "LayoutModel",
          "state": {
            "_view_name": "LayoutView",
            "grid_template_rows": null,
            "right": null,
            "justify_content": null,
            "_view_module": "@jupyter-widgets/base",
            "overflow": null,
            "_model_module_version": "1.2.0",
            "_view_count": null,
            "flex_flow": null,
            "width": null,
            "min_width": null,
            "border": null,
            "align_items": null,
            "bottom": null,
            "_model_module": "@jupyter-widgets/base",
            "top": null,
            "grid_column": null,
            "overflow_y": null,
            "overflow_x": null,
            "grid_auto_flow": null,
            "grid_area": null,
            "grid_template_columns": null,
            "flex": null,
            "_model_name": "LayoutModel",
            "justify_items": null,
            "grid_row": null,
            "max_height": null,
            "align_content": null,
            "visibility": null,
            "align_self": null,
            "height": null,
            "min_height": null,
            "padding": null,
            "grid_auto_rows": null,
            "grid_gap": null,
            "max_width": null,
            "order": null,
            "_view_module_version": "1.2.0",
            "grid_template_areas": null,
            "object_position": null,
            "object_fit": null,
            "grid_auto_columns": null,
            "margin": null,
            "display": null,
            "left": null
          }
        },
        "d8aa8a9585e84146bd1f6e944b65479a": {
          "model_module": "@jupyter-widgets/controls",
          "model_name": "DescriptionStyleModel",
          "state": {
            "_view_name": "StyleView",
            "_model_name": "DescriptionStyleModel",
            "description_width": "",
            "_view_module": "@jupyter-widgets/base",
            "_model_module_version": "1.5.0",
            "_view_count": null,
            "_view_module_version": "1.2.0",
            "_model_module": "@jupyter-widgets/controls"
          }
        },
        "f9ef7309de24426ca91b3f1d642c1db7": {
          "model_module": "@jupyter-widgets/base",
          "model_name": "LayoutModel",
          "state": {
            "_view_name": "LayoutView",
            "grid_template_rows": null,
            "right": null,
            "justify_content": null,
            "_view_module": "@jupyter-widgets/base",
            "overflow": null,
            "_model_module_version": "1.2.0",
            "_view_count": null,
            "flex_flow": null,
            "width": null,
            "min_width": null,
            "border": null,
            "align_items": null,
            "bottom": null,
            "_model_module": "@jupyter-widgets/base",
            "top": null,
            "grid_column": null,
            "overflow_y": null,
            "overflow_x": null,
            "grid_auto_flow": null,
            "grid_area": null,
            "grid_template_columns": null,
            "flex": null,
            "_model_name": "LayoutModel",
            "justify_items": null,
            "grid_row": null,
            "max_height": null,
            "align_content": null,
            "visibility": null,
            "align_self": null,
            "height": null,
            "min_height": null,
            "padding": null,
            "grid_auto_rows": null,
            "grid_gap": null,
            "max_width": null,
            "order": null,
            "_view_module_version": "1.2.0",
            "grid_template_areas": null,
            "object_position": null,
            "object_fit": null,
            "grid_auto_columns": null,
            "margin": null,
            "display": null,
            "left": null
          }
        }
      }
    }
  },
  "cells": [
    {
      "cell_type": "markdown",
      "metadata": {
        "id": "EKOTlwcmxmej",
        "colab_type": "text"
      },
      "source": [
        "## BERT for Disaster Tweets Classification (Kaggle)\n",
        "\n",
        "by Luky"
      ]
    },
    {
      "cell_type": "code",
      "metadata": {
        "id": "jgluAffQd68e",
        "colab_type": "code",
        "colab": {
          "base_uri": "https://localhost:8080/",
          "height": 357
        },
        "outputId": "444baca4-9f71-48f5-863a-b1a5066bb8a1"
      },
      "source": [
        "!nvidia-smi"
      ],
      "execution_count": 1,
      "outputs": [
        {
          "output_type": "stream",
          "text": [
            "Tue Jun 23 22:10:58 2020       \n",
            "+-----------------------------------------------------------------------------+\n",
            "| NVIDIA-SMI 450.36.06    Driver Version: 418.67       CUDA Version: 10.1     |\n",
            "|-------------------------------+----------------------+----------------------+\n",
            "| GPU  Name        Persistence-M| Bus-Id        Disp.A | Volatile Uncorr. ECC |\n",
            "| Fan  Temp  Perf  Pwr:Usage/Cap|         Memory-Usage | GPU-Util  Compute M. |\n",
            "|                               |                      |               MIG M. |\n",
            "|===============================+======================+======================|\n",
            "|   0  Tesla T4            Off  | 00000000:00:04.0 Off |                    0 |\n",
            "| N/A   41C    P8     9W /  70W |      0MiB / 15079MiB |      0%      Default |\n",
            "|                               |                      |                 ERR! |\n",
            "+-------------------------------+----------------------+----------------------+\n",
            "                                                                               \n",
            "+-----------------------------------------------------------------------------+\n",
            "| Processes:                                                                  |\n",
            "|  GPU   GI   CI        PID   Type   Process name                  GPU Memory |\n",
            "|        ID   ID                                                   Usage      |\n",
            "|=============================================================================|\n",
            "|  No running processes found                                                 |\n",
            "+-----------------------------------------------------------------------------+\n"
          ],
          "name": "stdout"
        }
      ]
    },
    {
      "cell_type": "markdown",
      "metadata": {
        "id": "RX_ZDhicpHkV",
        "colab_type": "text"
      },
      "source": [
        "# 1. Setup"
      ]
    },
    {
      "cell_type": "markdown",
      "metadata": {
        "id": "nSU7yERLP_66",
        "colab_type": "text"
      },
      "source": [
        "## 1.1. Check for Colab GPU \n"
      ]
    },
    {
      "cell_type": "code",
      "metadata": {
        "id": "DEfSbAA4QHas",
        "colab_type": "code",
        "colab": {
          "base_uri": "https://localhost:8080/",
          "height": 34
        },
        "outputId": "4a5aaedc-75a7-446c-f926-ec7caa17a836"
      },
      "source": [
        "import tensorflow as tf\n",
        "\n",
        "device_name = tf.test.gpu_device_name()\n",
        "if device_name == '/device:GPU:0':\n",
        "    print('Found GPU at: {}'.format(device_name))\n",
        "else:\n",
        "    raise SystemError('GPU device not found')"
      ],
      "execution_count": 3,
      "outputs": [
        {
          "output_type": "stream",
          "text": [
            "Found GPU at: /device:GPU:0\n"
          ],
          "name": "stdout"
        }
      ]
    },
    {
      "cell_type": "code",
      "metadata": {
        "id": "oYsV4H8fCpZ-",
        "colab_type": "code",
        "colab": {
          "base_uri": "https://localhost:8080/",
          "height": 51
        },
        "outputId": "9e592ec3-52ed-4bd7-e786-ae27b4b5a97f"
      },
      "source": [
        "import torch\n",
        "\n",
        "if torch.cuda.is_available():    \n",
        "    device = torch.device(\"cuda\")\n",
        "    print('There are %d GPU(s) available.' % torch.cuda.device_count())\n",
        "    print('We will use the GPU:', torch.cuda.get_device_name(0))\n",
        "else:\n",
        "    print('No GPU available, using the CPU instead.')\n",
        "    device = torch.device(\"cpu\")"
      ],
      "execution_count": 2,
      "outputs": [
        {
          "output_type": "stream",
          "text": [
            "There are 1 GPU(s) available.\n",
            "We will use the GPU: Tesla T4\n"
          ],
          "name": "stdout"
        }
      ]
    },
    {
      "cell_type": "markdown",
      "metadata": {
        "id": "2ElsnSNUridI",
        "colab_type": "text"
      },
      "source": [
        "## 1.2. Install transformers Library\n"
      ]
    },
    {
      "cell_type": "code",
      "metadata": {
        "id": "0NmMdkZO8R6q",
        "colab_type": "code",
        "colab": {
          "base_uri": "https://localhost:8080/",
          "height": 615
        },
        "outputId": "f0baef81-b8d2-45ad-a4fc-dcecb8bf0010"
      },
      "source": [
        "!pip install transformers"
      ],
      "execution_count": 3,
      "outputs": [
        {
          "output_type": "stream",
          "text": [
            "Collecting transformers\n",
            "\u001b[?25l  Downloading https://files.pythonhosted.org/packages/48/35/ad2c5b1b8f99feaaf9d7cdadaeef261f098c6e1a6a2935d4d07662a6b780/transformers-2.11.0-py3-none-any.whl (674kB)\n",
            "\u001b[K     |████████████████████████████████| 675kB 7.6MB/s \n",
            "\u001b[?25hRequirement already satisfied: packaging in /usr/local/lib/python3.6/dist-packages (from transformers) (20.4)\n",
            "Requirement already satisfied: dataclasses; python_version < \"3.7\" in /usr/local/lib/python3.6/dist-packages (from transformers) (0.7)\n",
            "Requirement already satisfied: requests in /usr/local/lib/python3.6/dist-packages (from transformers) (2.23.0)\n",
            "Collecting sacremoses\n",
            "\u001b[?25l  Downloading https://files.pythonhosted.org/packages/7d/34/09d19aff26edcc8eb2a01bed8e98f13a1537005d31e95233fd48216eed10/sacremoses-0.0.43.tar.gz (883kB)\n",
            "\u001b[K     |████████████████████████████████| 890kB 23.4MB/s \n",
            "\u001b[?25hRequirement already satisfied: numpy in /usr/local/lib/python3.6/dist-packages (from transformers) (1.18.5)\n",
            "Requirement already satisfied: tqdm>=4.27 in /usr/local/lib/python3.6/dist-packages (from transformers) (4.41.1)\n",
            "Requirement already satisfied: filelock in /usr/local/lib/python3.6/dist-packages (from transformers) (3.0.12)\n",
            "Collecting sentencepiece\n",
            "\u001b[?25l  Downloading https://files.pythonhosted.org/packages/d4/a4/d0a884c4300004a78cca907a6ff9a5e9fe4f090f5d95ab341c53d28cbc58/sentencepiece-0.1.91-cp36-cp36m-manylinux1_x86_64.whl (1.1MB)\n",
            "\u001b[K     |████████████████████████████████| 1.1MB 43.6MB/s \n",
            "\u001b[?25hRequirement already satisfied: regex!=2019.12.17 in /usr/local/lib/python3.6/dist-packages (from transformers) (2019.12.20)\n",
            "Collecting tokenizers==0.7.0\n",
            "\u001b[?25l  Downloading https://files.pythonhosted.org/packages/14/e5/a26eb4716523808bb0a799fcfdceb6ebf77a18169d9591b2f46a9adb87d9/tokenizers-0.7.0-cp36-cp36m-manylinux1_x86_64.whl (3.8MB)\n",
            "\u001b[K     |████████████████████████████████| 3.8MB 58.8MB/s \n",
            "\u001b[?25hRequirement already satisfied: pyparsing>=2.0.2 in /usr/local/lib/python3.6/dist-packages (from packaging->transformers) (2.4.7)\n",
            "Requirement already satisfied: six in /usr/local/lib/python3.6/dist-packages (from packaging->transformers) (1.12.0)\n",
            "Requirement already satisfied: idna<3,>=2.5 in /usr/local/lib/python3.6/dist-packages (from requests->transformers) (2.9)\n",
            "Requirement already satisfied: urllib3!=1.25.0,!=1.25.1,<1.26,>=1.21.1 in /usr/local/lib/python3.6/dist-packages (from requests->transformers) (1.24.3)\n",
            "Requirement already satisfied: certifi>=2017.4.17 in /usr/local/lib/python3.6/dist-packages (from requests->transformers) (2020.4.5.2)\n",
            "Requirement already satisfied: chardet<4,>=3.0.2 in /usr/local/lib/python3.6/dist-packages (from requests->transformers) (3.0.4)\n",
            "Requirement already satisfied: click in /usr/local/lib/python3.6/dist-packages (from sacremoses->transformers) (7.1.2)\n",
            "Requirement already satisfied: joblib in /usr/local/lib/python3.6/dist-packages (from sacremoses->transformers) (0.15.1)\n",
            "Building wheels for collected packages: sacremoses\n",
            "  Building wheel for sacremoses (setup.py) ... \u001b[?25l\u001b[?25hdone\n",
            "  Created wheel for sacremoses: filename=sacremoses-0.0.43-cp36-none-any.whl size=893260 sha256=fd418c863fe85ba08ca3dd1a63a4704b7e8ad57f159ea6a57a5b715f74b8d6c5\n",
            "  Stored in directory: /root/.cache/pip/wheels/29/3c/fd/7ce5c3f0666dab31a50123635e6fb5e19ceb42ce38d4e58f45\n",
            "Successfully built sacremoses\n",
            "Installing collected packages: sacremoses, sentencepiece, tokenizers, transformers\n",
            "Successfully installed sacremoses-0.0.43 sentencepiece-0.1.91 tokenizers-0.7.0 transformers-2.11.0\n"
          ],
          "name": "stdout"
        }
      ]
    },
    {
      "cell_type": "markdown",
      "metadata": {
        "id": "guw6ZNtaswKc",
        "colab_type": "text"
      },
      "source": [
        "# 2. Load Disaster Tweets Dataset (from Kaggle)\n"
      ]
    },
    {
      "cell_type": "markdown",
      "metadata": {
        "id": "q-QAg5iz1Cly",
        "colab_type": "text"
      },
      "source": [
        "## 2.1 Load csv file"
      ]
    },
    {
      "cell_type": "code",
      "metadata": {
        "id": "_UkeC7SG2krJ",
        "colab_type": "code",
        "colab": {
          "base_uri": "https://localhost:8080/",
          "height": 221
        },
        "outputId": "673a960f-e5f7-48d0-9a42-601cf893dba2"
      },
      "source": [
        "import pandas as pd\n",
        "\n",
        "df = pd.read_csv(\"train.csv\")\n",
        "print('Number of training sentences: ', len(df))\n",
        "df.sample(5)"
      ],
      "execution_count": 4,
      "outputs": [
        {
          "output_type": "stream",
          "text": [
            "Number of training sentences:  7613\n"
          ],
          "name": "stdout"
        },
        {
          "output_type": "execute_result",
          "data": {
            "text/html": [
              "<div>\n",
              "<style scoped>\n",
              "    .dataframe tbody tr th:only-of-type {\n",
              "        vertical-align: middle;\n",
              "    }\n",
              "\n",
              "    .dataframe tbody tr th {\n",
              "        vertical-align: top;\n",
              "    }\n",
              "\n",
              "    .dataframe thead th {\n",
              "        text-align: right;\n",
              "    }\n",
              "</style>\n",
              "<table border=\"1\" class=\"dataframe\">\n",
              "  <thead>\n",
              "    <tr style=\"text-align: right;\">\n",
              "      <th></th>\n",
              "      <th>id</th>\n",
              "      <th>keyword</th>\n",
              "      <th>location</th>\n",
              "      <th>text</th>\n",
              "      <th>target</th>\n",
              "    </tr>\n",
              "  </thead>\n",
              "  <tbody>\n",
              "    <tr>\n",
              "      <th>3632</th>\n",
              "      <td>5181</td>\n",
              "      <td>fatalities</td>\n",
              "      <td>Washington, DC</td>\n",
              "      <td>#Saudi Arabia: #Abha: Fatalities reported foll...</td>\n",
              "      <td>1</td>\n",
              "    </tr>\n",
              "    <tr>\n",
              "      <th>2471</th>\n",
              "      <td>3542</td>\n",
              "      <td>derailment</td>\n",
              "      <td>Minneapolis,MN,US</td>\n",
              "      <td>Train derailment: In Patna no news of any casu...</td>\n",
              "      <td>1</td>\n",
              "    </tr>\n",
              "    <tr>\n",
              "      <th>7068</th>\n",
              "      <td>10124</td>\n",
              "      <td>upheaval</td>\n",
              "      <td>Oregon</td>\n",
              "      <td>A look at state actions a year after Ferguson'...</td>\n",
              "      <td>0</td>\n",
              "    </tr>\n",
              "    <tr>\n",
              "      <th>6805</th>\n",
              "      <td>9750</td>\n",
              "      <td>tragedy</td>\n",
              "      <td>India</td>\n",
              "      <td>Rly tragedy in MP: Some live to recount horror...</td>\n",
              "      <td>1</td>\n",
              "    </tr>\n",
              "    <tr>\n",
              "      <th>136</th>\n",
              "      <td>196</td>\n",
              "      <td>airplane%20accident</td>\n",
              "      <td>19.600858, -99.047821</td>\n",
              "      <td>Experts in France begin examining airplane deb...</td>\n",
              "      <td>1</td>\n",
              "    </tr>\n",
              "  </tbody>\n",
              "</table>\n",
              "</div>"
            ],
            "text/plain": [
              "         id  ... target\n",
              "3632   5181  ...      1\n",
              "2471   3542  ...      1\n",
              "7068  10124  ...      0\n",
              "6805   9750  ...      1\n",
              "136     196  ...      1\n",
              "\n",
              "[5 rows x 5 columns]"
            ]
          },
          "metadata": {
            "tags": []
          },
          "execution_count": 4
        }
      ]
    },
    {
      "cell_type": "code",
      "metadata": {
        "id": "lfl3uMImt4El",
        "colab_type": "code",
        "colab": {
          "base_uri": "https://localhost:8080/",
          "height": 102
        },
        "outputId": "b8fd4c4b-ec52-4464-ab5f-d144e8acaaf9"
      },
      "source": [
        "# Print some negative sample tweets\n",
        "for txt in df[df.target==0].text.sample(5).values:\n",
        "  print(txt)"
      ],
      "execution_count": 30,
      "outputs": [
        {
          "output_type": "stream",
          "text": [
            "Gulfport Energy - All-In Realizations Fall Off A Cliff http://t.co/CjuiGhBxyn\n",
            "cancel the fucking show. Evacuate MetLife  https://t.co/SkQ8oUcM3R\n",
            "@HoneyBunzGem @primalkitchen I feel like me doing a pull-up is one of the stages of the Apocalypse.\n",
            "The 19 year old's smug face when Dorret brings out her mudslide Black Forest gateau #priceless #GBBO\n",
            "@attjcdemos @folieacat well we all knew her old user was like a timebomb ... destined to explode :/\n"
          ],
          "name": "stdout"
        }
      ]
    },
    {
      "cell_type": "code",
      "metadata": {
        "id": "zKElcfFeuUy0",
        "colab_type": "code",
        "colab": {
          "base_uri": "https://localhost:8080/",
          "height": 122
        },
        "outputId": "d7a6ff7a-b5fa-457e-b2c3-174fa6ddacef"
      },
      "source": [
        "# Print some positive sample tweets\n",
        "for txt in df[df.target==1].text.sample(5).values:\n",
        "  print(txt)"
      ],
      "execution_count": 34,
      "outputs": [
        {
          "output_type": "stream",
          "text": [
            "Some Evansville residents told to limit water usage due to sinkhole construction: Some Evansville residents haveÛ_ http://t.co/SJNyFszCu1\n",
            "Japan had a nuke program (albeit unsuccessful) and the casualty estimates for a ground war were in the tens of millions. @MacKinnon08\n",
            "Boy saves autistic brother from drowning: A nine-year-old in Maine dove into a pool to save his autistic brother from drowning\n",
            "It's a miracle that mankind survived 70 years since one of the worst days in its history. All bets are off if it will survive the next 70.\n",
            "@modnao23 the hail is ruining everything. Plus my car I haven't even gotten yet. Have yet another killer migraine and I lost my glasses. ??\n"
          ],
          "name": "stdout"
        }
      ]
    },
    {
      "cell_type": "markdown",
      "metadata": {
        "id": "9IVrgmW8vKAD",
        "colab_type": "text"
      },
      "source": [
        "Looks like many of positive tweets are coming from a more formal source."
      ]
    },
    {
      "cell_type": "code",
      "metadata": {
        "id": "blqIvQaQncdJ",
        "colab_type": "code",
        "colab": {
          "base_uri": "https://localhost:8080/",
          "height": 34
        },
        "outputId": "c30a2615-f5e7-423c-b067-ccd0799100c3"
      },
      "source": [
        "df.text.isna().sum()"
      ],
      "execution_count": 6,
      "outputs": [
        {
          "output_type": "execute_result",
          "data": {
            "text/plain": [
              "0"
            ]
          },
          "metadata": {
            "tags": []
          },
          "execution_count": 6
        }
      ]
    },
    {
      "cell_type": "markdown",
      "metadata": {
        "id": "_XnHFjfv2mis",
        "colab_type": "text"
      },
      "source": [
        "There is no empty cell for text."
      ]
    },
    {
      "cell_type": "code",
      "metadata": {
        "id": "j795oV7b2JFi",
        "colab_type": "code",
        "colab": {
          "base_uri": "https://localhost:8080/",
          "height": 34
        },
        "outputId": "a1852d38-0731-4d23-ec4e-a700cf2f1559"
      },
      "source": [
        "print(\"Positive data: {:.2f}%\".format(len(df[df.target==1])*100/len(df)))"
      ],
      "execution_count": 65,
      "outputs": [
        {
          "output_type": "stream",
          "text": [
            "Positive data: 42.97%\n"
          ],
          "name": "stdout"
        }
      ]
    },
    {
      "cell_type": "markdown",
      "metadata": {
        "id": "O5ABhGm5xBvl",
        "colab_type": "text"
      },
      "source": [
        "Ok, we have a pretty balanced dataset."
      ]
    },
    {
      "cell_type": "code",
      "metadata": {
        "id": "GuE5BqICAne2",
        "colab_type": "code",
        "colab": {}
      },
      "source": [
        "tweets = df.text.values\n",
        "labels = df.target.values"
      ],
      "execution_count": 7,
      "outputs": []
    },
    {
      "cell_type": "markdown",
      "metadata": {
        "id": "PXuqsaul1HhT",
        "colab_type": "text"
      },
      "source": [
        "## 2.2  http://... URLs in tweets"
      ]
    },
    {
      "cell_type": "code",
      "metadata": {
        "id": "pwwPJd1zv7Ps",
        "colab_type": "code",
        "colab": {
          "base_uri": "https://localhost:8080/",
          "height": 34
        },
        "outputId": "22bfd0b3-64fa-4845-bf3c-7f4507c0a938"
      },
      "source": [
        "print(\"{} out of {} tweets have a http://... link within itself. ({:.2f}%)\".format(len([t for t in tweets if \"http://\" in t]), len(df), len([t for t in tweets if \"http://\" in t])*100/len(df)))"
      ],
      "execution_count": 59,
      "outputs": [
        {
          "output_type": "stream",
          "text": [
            "3604 out of 7613 tweets have a http://... link within itself. (47.34%)\n"
          ],
          "name": "stdout"
        }
      ]
    },
    {
      "cell_type": "code",
      "metadata": {
        "id": "a30mP7hB0Vy6",
        "colab_type": "code",
        "colab": {
          "base_uri": "https://localhost:8080/",
          "height": 102
        },
        "outputId": "fc6ca44f-6a7b-4e55-e401-3939322aba28"
      },
      "source": [
        "[t for t in tweets if \"http://\" in t][:5]"
      ],
      "execution_count": 60,
      "outputs": [
        {
          "output_type": "execute_result",
          "data": {
            "text/plain": [
              "['@bbcmtd Wholesale Markets ablaze http://t.co/lHYXEOHY6C',\n",
              " 'We always try to bring the heavy. #metal #RT http://t.co/YAo1e0xngw',\n",
              " '#AFRICANBAZE: Breaking news:Nigeria flag set ablaze in Aba. http://t.co/2nndBGwyEi',\n",
              " 'On plus side LOOK AT THE SKY LAST NIGHT IT WAS ABLAZE http://t.co/qqsmshaJ3N',\n",
              " 'INEC Office in Abia Set Ablaze - http://t.co/3ImaomknnA']"
            ]
          },
          "metadata": {
            "tags": []
          },
          "execution_count": 60
        }
      ]
    },
    {
      "cell_type": "code",
      "metadata": {
        "id": "Vctexe1L8rI1",
        "colab_type": "code",
        "colab": {
          "base_uri": "https://localhost:8080/",
          "height": 122
        },
        "outputId": "60e3aae3-5595-4e1d-ea65-f2fff5ebfa34"
      },
      "source": [
        "# Print some tweets with URL that does NOT have URL at the end\n",
        "[t for t in [t for t in tweets if \"http://\" in t] if \"http://\" not in t.split()[-1]][:5]"
      ],
      "execution_count": 80,
      "outputs": [
        {
          "output_type": "execute_result",
          "data": {
            "text/plain": [
              "['Check these out: http://t.co/rOI2NSmEJJ http://t.co/3Tj8ZjiN21 http://t.co/YDUiXEfIpE http://t.co/LxTjc87KLS #nsfw',\n",
              " 'Check these out: http://t.co/rOI2NSmEJJ http://t.co/3Tj8ZjiN21 http://t.co/YDUiXEfIpE http://t.co/LxTjc87KLS #nsfw',\n",
              " '#NowPlaying: Rene Ablaze &amp; Ian Buff - Magnitude http://t.co/Av2JSjfFtc  #EDM',\n",
              " 'http://t.co/GKYe6gjTk5 Had a #personalinjury accident this summer? Read our advice &amp; see how a #solicitor can help #OtleyHour',\n",
              " '&gt;&gt; $15 Aftershock : Protect Yourself and Profit in the Next Global Financial... ##book http://t.co/f6ntUc734Z\\n@esquireattire']"
            ]
          },
          "metadata": {
            "tags": []
          },
          "execution_count": 80
        }
      ]
    },
    {
      "cell_type": "markdown",
      "metadata": {
        "id": "j9XMBahi1YTU",
        "colab_type": "text"
      },
      "source": [
        "Let's see if having a URL makes the tweet more probable to be a disaster tweet (target=1)."
      ]
    },
    {
      "cell_type": "code",
      "metadata": {
        "id": "i_nFVYdd1k2U",
        "colab_type": "code",
        "colab": {
          "base_uri": "https://localhost:8080/",
          "height": 51
        },
        "outputId": "8e17bf0f-f4c7-40ae-cd33-1ae88cdad5a7"
      },
      "source": [
        "print(\"percentage of POSITIVE samples containing http URLs at the end: {:.2f}%\".format(len([t for t in df[df['target']==1]['text'] if \"http://\" in t])*100/len(df[df['target']==1])))\n",
        "print(\"percentage of NEGATIVE samples containing http URLs at the end: {:.2f}%\".format(len([t for t in df[df['target']==0]['text'] if \"http://\" in t])*100/len(df[df['target']==0])))"
      ],
      "execution_count": 67,
      "outputs": [
        {
          "output_type": "stream",
          "text": [
            "percentage of POSITIVE samples containing http URLs at the end: 62.86%\n",
            "percentage of NEGATIVE samples containing http URLs at the end: 35.65%\n"
          ],
          "name": "stdout"
        }
      ]
    },
    {
      "cell_type": "markdown",
      "metadata": {
        "id": "7wGiW_-76BrV",
        "colab_type": "text"
      },
      "source": [
        "Ok, seems like positive samples have higher probablity of having a URL. Maybe it's because to share/announce a disaster, one might share a news/youtube link as a source. "
      ]
    },
    {
      "cell_type": "markdown",
      "metadata": {
        "id": "PSq8PLp21RIa",
        "colab_type": "text"
      },
      "source": [
        "## 2.3 @user_id tags in tweets"
      ]
    },
    {
      "cell_type": "code",
      "metadata": {
        "id": "F6b05_6a0ugG",
        "colab_type": "code",
        "colab": {
          "base_uri": "https://localhost:8080/",
          "height": 34
        },
        "outputId": "aeb972cb-3f60-4e19-ca80-d05b45b9cd27"
      },
      "source": [
        "print(\"{} out of {} tweets have a @user_id tag within itself. ({:.2f}%)\".format(len([t for t in tweets if \"@\" in t]), len(df), len([t for t in tweets if \"@\" in t])*100/len(df)))"
      ],
      "execution_count": 69,
      "outputs": [
        {
          "output_type": "stream",
          "text": [
            "2039 out of 7613 tweets have a @user_id tag within itself. (26.78%)\n"
          ],
          "name": "stdout"
        }
      ]
    },
    {
      "cell_type": "code",
      "metadata": {
        "id": "VQgvOvXb0eEW",
        "colab_type": "code",
        "colab": {
          "base_uri": "https://localhost:8080/",
          "height": 122
        },
        "outputId": "8ce4b904-58b4-41a0-cd09-9c537409c39c"
      },
      "source": [
        "[t for t in tweets if \"@\" in t][:5]"
      ],
      "execution_count": 62,
      "outputs": [
        {
          "output_type": "execute_result",
          "data": {
            "text/plain": [
              "['@bbcmtd Wholesale Markets ablaze http://t.co/lHYXEOHY6C',\n",
              " \"@PhDSquares #mufc they've built so much hype around new acquisitions but I doubt they will set the EPL ablaze this season.\",\n",
              " 'SOOOO PUMPED FOR ABLAZE ???? @southridgelife',\n",
              " \"Noches El-Bestia '@Alexis_Sanchez: happy to see my teammates and training hard ?? goodnight gunners.?????? http://t.co/uc4j4jHvGR'\",\n",
              " 'Set our hearts ablaze and every city was a gift And every skyline was like a kiss upon the lips @\\x89Û_ https://t.co/cYoMPZ1A0Z']"
            ]
          },
          "metadata": {
            "tags": []
          },
          "execution_count": 62
        }
      ]
    },
    {
      "cell_type": "markdown",
      "metadata": {
        "id": "YtkfZyDL3qKT",
        "colab_type": "text"
      },
      "source": [
        "Let's see if having id tag(s) makes the tweet more probable to be a disaster tweet (target=1)."
      ]
    },
    {
      "cell_type": "code",
      "metadata": {
        "id": "8KgJ9qP63mCC",
        "colab_type": "code",
        "colab": {
          "base_uri": "https://localhost:8080/",
          "height": 51
        },
        "outputId": "4bbeafd5-f0e3-4b4e-eb52-8873b4591846"
      },
      "source": [
        "print(\"percentage of POSITIVE samples containing @user_id tag: {:.2f}%\".format(len([t for t in df[df['target']==1]['text'] if \"@\" in t])*100/len(df[df['target']==1])))\n",
        "print(\"percentage of NEGATIVE samples containing @user_id tag: {:.2f}%\".format(len([t for t in df[df['target']==0]['text'] if \"@\" in t])*100/len(df[df['target']==0])))"
      ],
      "execution_count": 70,
      "outputs": [
        {
          "output_type": "stream",
          "text": [
            "percentage of POSITIVE samples containing @user_id tag: 20.67%\n",
            "percentage of NEGATIVE samples containing @user_id tag: 31.39%\n"
          ],
          "name": "stdout"
        }
      ]
    },
    {
      "cell_type": "markdown",
      "metadata": {
        "id": "40pFQ-CJ1lsW",
        "colab_type": "text"
      },
      "source": [
        "## 2.3 Hashtags in tweets"
      ]
    },
    {
      "cell_type": "code",
      "metadata": {
        "id": "m4YGWZrwP3vK",
        "colab_type": "code",
        "colab": {
          "base_uri": "https://localhost:8080/",
          "height": 34
        },
        "outputId": "8d053dcf-e226-47b1-8806-6b62f73aa155"
      },
      "source": [
        "print(\"{} out of {} tweets have a # tag within itself. ({:.2f}%)\".format(len([t for t in tweets if \"#\" in t]), len(df), len([t for t in tweets if \"#\" in t])*100/len(df)))"
      ],
      "execution_count": 114,
      "outputs": [
        {
          "output_type": "stream",
          "text": [
            "1759 out of 7613 tweets have a # tag within itself. (23.11%)\n"
          ],
          "name": "stdout"
        }
      ]
    },
    {
      "cell_type": "code",
      "metadata": {
        "id": "URNNZ1A3QQMJ",
        "colab_type": "code",
        "colab": {
          "base_uri": "https://localhost:8080/",
          "height": 51
        },
        "outputId": "84569b21-8e6c-43e9-c946-d31d74136e39"
      },
      "source": [
        "print(\"percentage of POSITIVE samples containing # tag: {:.2f}%\".format(len([t for t in df[df['target']==1]['text'] if \"#\" in t])*100/len(df[df['target']==1])))\n",
        "print(\"percentage of NEGATIVE samples containing # tag: {:.2f}%\".format(len([t for t in df[df['target']==0]['text'] if \"#\" in t])*100/len(df[df['target']==0])))"
      ],
      "execution_count": 115,
      "outputs": [
        {
          "output_type": "stream",
          "text": [
            "percentage of POSITIVE samples containing # tag: 26.75%\n",
            "percentage of NEGATIVE samples containing # tag: 20.41%\n"
          ],
          "name": "stdout"
        }
      ]
    },
    {
      "cell_type": "markdown",
      "metadata": {
        "id": "ex5O1eV-Pfct",
        "colab_type": "text"
      },
      "source": [
        "# 3. Tokenize\n"
      ]
    },
    {
      "cell_type": "markdown",
      "metadata": {
        "id": "-8kEDRvShcU5",
        "colab_type": "text"
      },
      "source": [
        "## 3.1. BERT Tokenizer"
      ]
    },
    {
      "cell_type": "code",
      "metadata": {
        "id": "Z474sSC6oe7A",
        "colab_type": "code",
        "colab": {
          "base_uri": "https://localhost:8080/",
          "height": 83,
          "referenced_widgets": [
            "472bda58f12c4713a355f103f998dd65",
            "b00e563a45b54d5ba4603c42c01acbe6",
            "aa42994a14dc47ea9c21015455267e66",
            "5d95a48309cb42c997ec30931cd6234b",
            "4f9a3d3640834e269ae50c79743c2994",
            "68ca69b4341a4283b18f6dff5a2c59ae",
            "d8aa8a9585e84146bd1f6e944b65479a",
            "f9ef7309de24426ca91b3f1d642c1db7"
          ]
        },
        "outputId": "2030528a-e3f5-4695-b128-39fca423d8c8"
      },
      "source": [
        "from transformers import BertTokenizer\n",
        "\n",
        "print('Loading BERT tokenizer...')\n",
        "tokenizer = BertTokenizer.from_pretrained('bert-base-uncased', do_lower_case=True)"
      ],
      "execution_count": 5,
      "outputs": [
        {
          "output_type": "stream",
          "text": [
            "Loading BERT tokenizer...\n"
          ],
          "name": "stdout"
        },
        {
          "output_type": "display_data",
          "data": {
            "application/vnd.jupyter.widget-view+json": {
              "model_id": "472bda58f12c4713a355f103f998dd65",
              "version_minor": 0,
              "version_major": 2
            },
            "text/plain": [
              "HBox(children=(FloatProgress(value=0.0, description='Downloading', max=231508.0, style=ProgressStyle(descripti…"
            ]
          },
          "metadata": {
            "tags": []
          }
        },
        {
          "output_type": "stream",
          "text": [
            "\n"
          ],
          "name": "stdout"
        }
      ]
    },
    {
      "cell_type": "code",
      "metadata": {
        "id": "dLIbudgfh6F0",
        "colab_type": "code",
        "colab": {
          "base_uri": "https://localhost:8080/",
          "height": 68
        },
        "outputId": "4052f80d-043b-4771-86f4-1a80b86a31a8"
      },
      "source": [
        "print(' Original: ', tweets[1], labels[1])\n",
        "print('Tokenized: ', tokenizer.tokenize(tweets[1]))\n",
        "print('Token IDs: ', tokenizer.convert_tokens_to_ids(tokenizer.tokenize(tweets[1])))"
      ],
      "execution_count": 43,
      "outputs": [
        {
          "output_type": "stream",
          "text": [
            " Original:  Forest fire near La Ronge Sask. Canada 1\n",
            "Tokenized:  ['forest', 'fire', 'near', 'la', 'ron', '##ge', 'sas', '##k', '.', 'canada']\n",
            "Token IDs:  [3224, 2543, 2379, 2474, 6902, 3351, 21871, 2243, 1012, 2710]\n"
          ],
          "name": "stdout"
        }
      ]
    },
    {
      "cell_type": "markdown",
      "metadata": {
        "id": "6D55dBSx53yz",
        "colab_type": "text"
      },
      "source": [
        "## 3.2 http:// URLs"
      ]
    },
    {
      "cell_type": "code",
      "metadata": {
        "id": "QqqhFdvcwVBy",
        "colab_type": "code",
        "colab": {
          "base_uri": "https://localhost:8080/",
          "height": 105
        },
        "outputId": "d1baf4e2-f35e-45a9-d614-ea061648e722"
      },
      "source": [
        "print(' Original: ', tweets[-1]) # a tweet with http URL\n",
        "print('   Target: ', labels[-1])\n",
        "print('Tokenized: ', tokenizer.tokenize(tweets[-1]))\n",
        "print('Token IDs: ', tokenizer.convert_tokens_to_ids(tokenizer.tokenize(tweets[-1])))"
      ],
      "execution_count": 44,
      "outputs": [
        {
          "output_type": "stream",
          "text": [
            " Original:  The Latest: More Homes Razed by Northern California Wildfire - ABC News http://t.co/YmY4rSkQ3d\n",
            "   Target:  1\n",
            "Tokenized:  ['the', 'latest', ':', 'more', 'homes', 'ra', '##zed', 'by', 'northern', 'california', 'wild', '##fire', '-', 'abc', 'news', 'http', ':', '/', '/', 't', '.', 'co', '/', 'y', '##my', '##4', '##rsk', '##q', '##3d']\n",
            "Token IDs:  [1996, 6745, 1024, 2062, 5014, 10958, 5422, 2011, 2642, 2662, 3748, 10273, 1011, 5925, 2739, 8299, 1024, 1013, 1013, 1056, 1012, 2522, 1013, 1061, 8029, 2549, 27472, 4160, 29097]\n"
          ],
          "name": "stdout"
        }
      ]
    },
    {
      "cell_type": "markdown",
      "metadata": {
        "id": "QHGjUmee8CIs",
        "colab_type": "text"
      },
      "source": [
        "Random alphabetical tokens from URLs are useless. We shold just keep \"http\" token."
      ]
    },
    {
      "cell_type": "code",
      "metadata": {
        "id": "0e9bjCIZ8AoV",
        "colab_type": "code",
        "colab": {
          "base_uri": "https://localhost:8080/",
          "height": 34
        },
        "outputId": "3b799b74-e27a-4ea7-8a89-041c1f288a75"
      },
      "source": [
        "tweets = [\" \".join([word if 'http://' not in word else \"http\" for word in t.split()]) for t in tweets]\n",
        "tweets[-1]"
      ],
      "execution_count": 8,
      "outputs": [
        {
          "output_type": "execute_result",
          "data": {
            "text/plain": [
              "'The Latest: More Homes Razed by Northern California Wildfire - ABC News http'"
            ]
          },
          "metadata": {
            "tags": []
          },
          "execution_count": 8
        }
      ]
    },
    {
      "cell_type": "markdown",
      "metadata": {
        "id": "skZAop2I57t8",
        "colab_type": "text"
      },
      "source": [
        "## 3.3 @user_id mentions"
      ]
    },
    {
      "cell_type": "code",
      "metadata": {
        "id": "bIfajyJf4Rej",
        "colab_type": "code",
        "colab": {
          "base_uri": "https://localhost:8080/",
          "height": 88
        },
        "outputId": "187a70b5-46c4-48cb-c4e0-77aa03ef64b2"
      },
      "source": [
        "print(' Original: ', tweets[-4])\n",
        "print('   Target: ', labels[-4])\n",
        "print('Tokenized: ', tokenizer.tokenize(tweets[-4]))"
      ],
      "execution_count": 48,
      "outputs": [
        {
          "output_type": "stream",
          "text": [
            " Original:  @aria_ahrary @TheTawniest The out of control wild fires in California even in the Northern part of the state. Very troubling.\n",
            "   Target:  1\n",
            "Tokenized:  ['@', 'aria', '_', 'ah', '##rar', '##y', '@', 'theta', '##wn', '##iest', 'the', 'out', 'of', 'control', 'wild', 'fires', 'in', 'california', 'even', 'in', 'the', 'northern', 'part', 'of', 'the', 'state', '.', 'very', 'tr', '##ou', '##bling', '.']\n"
          ],
          "name": "stdout"
        }
      ]
    },
    {
      "cell_type": "code",
      "metadata": {
        "id": "4xL1HDYP4kqz",
        "colab_type": "code",
        "colab": {
          "base_uri": "https://localhost:8080/",
          "height": 88
        },
        "outputId": "26467c27-cae8-4db5-a1e6-b5aa6bbad70e"
      },
      "source": [
        "print(' Original: ', tweets[-17])\n",
        "print('   Target: ', labels[-17])\n",
        "print('Tokenized: ', tokenizer.tokenize(tweets[-17]))"
      ],
      "execution_count": 49,
      "outputs": [
        {
          "output_type": "stream",
          "text": [
            " Original:  RT @LivingSafely: #NWS issues Severe #Thunderstorm Warnings for parts of #AR #NC #OK. Expect more trauma cases: http\n",
            "   Target:  1\n",
            "Tokenized:  ['rt', '@', 'living', '##sa', '##fe', '##ly', ':', '#', 'nw', '##s', 'issues', 'severe', '#', 'thunder', '##storm', 'warnings', 'for', 'parts', 'of', '#', 'ar', '#', 'nc', '#', 'ok', '.', 'expect', 'more', 'trauma', 'cases', ':', 'http']\n"
          ],
          "name": "stdout"
        }
      ]
    },
    {
      "cell_type": "markdown",
      "metadata": {
        "id": "CHch2zUi5AkX",
        "colab_type": "text"
      },
      "source": [
        "Even with user_id w/ common nouns like above instead of proper nouns like names, resulting tokens seem not reasonable due to spacing."
      ]
    },
    {
      "cell_type": "code",
      "metadata": {
        "id": "C9uTAipf4q3t",
        "colab_type": "code",
        "colab": {
          "base_uri": "https://localhost:8080/",
          "height": 34
        },
        "outputId": "05900c25-6579-45b9-f68d-b5442bfc6fc2"
      },
      "source": [
        "tokenizer.tokenize(\"Living safely\")"
      ],
      "execution_count": 50,
      "outputs": [
        {
          "output_type": "execute_result",
          "data": {
            "text/plain": [
              "['living', 'safely']"
            ]
          },
          "metadata": {
            "tags": []
          },
          "execution_count": 50
        }
      ]
    },
    {
      "cell_type": "markdown",
      "metadata": {
        "id": "QUbt3PylxMub",
        "colab_type": "text"
      },
      "source": [
        "Let's keep \"@\" token only."
      ]
    },
    {
      "cell_type": "code",
      "metadata": {
        "id": "AK4K8zYjHM-Y",
        "colab_type": "code",
        "colab": {
          "base_uri": "https://localhost:8080/",
          "height": 34
        },
        "outputId": "a3f7ba6d-c1fc-481e-d7b1-af5f6a7cf0ca"
      },
      "source": [
        "tweets = [\" \".join([word if '@' not in word else \"@\" for word in t.split()]) for t in tweets]\n",
        "tweets[-4]"
      ],
      "execution_count": 9,
      "outputs": [
        {
          "output_type": "execute_result",
          "data": {
            "text/plain": [
              "'@ @ The out of control wild fires in California even in the Northern part of the state. Very troubling.'"
            ]
          },
          "metadata": {
            "tags": []
          },
          "execution_count": 9
        }
      ]
    },
    {
      "cell_type": "markdown",
      "metadata": {
        "id": "l6w8elb-58GJ",
        "colab_type": "text"
      },
      "source": [
        "## 3.4 Tokenize Dataset"
      ]
    },
    {
      "cell_type": "code",
      "metadata": {
        "id": "jvP934rdFSvg",
        "colab_type": "code",
        "colab": {
          "base_uri": "https://localhost:8080/",
          "height": 85
        },
        "outputId": "b3840fa9-22f3-48a7-fed7-d8645301e70e"
      },
      "source": [
        "import numpy as np\n",
        "\n",
        "encoded_tweets = [tokenizer.encode(t) for t in tweets]\n",
        "lens = np.array([len(t) for t in encoded_tweets])\n",
        "\n",
        "print('# of sentences:', len(tweets))\n",
        "print('Max sentence length: ', max(lens))\n",
        "print('Avg sentence length: ', np.mean(lens))\n",
        "print('Median sentence length: ', np.median(lens))"
      ],
      "execution_count": 57,
      "outputs": [
        {
          "output_type": "stream",
          "text": [
            "# of sentences: 7613\n",
            "Max sentence length:  80\n",
            "Avg sentence length:  23.727702613949823\n",
            "Median sentence length:  24.0\n"
          ],
          "name": "stdout"
        }
      ]
    },
    {
      "cell_type": "code",
      "metadata": {
        "id": "vCvp7vGJ3Ic9",
        "colab_type": "code",
        "colab": {
          "base_uri": "https://localhost:8080/",
          "height": 282
        },
        "outputId": "dced3c2c-2cbc-401c-e6a9-7b72682998af"
      },
      "source": [
        "import matplotlib.pyplot as plt\n",
        "\n",
        "unique = list(set(lens))\n",
        "unique.sort()\n",
        "cnt = [sum([1 if l==u else 0 for l in lens]) for u in unique]\n",
        "plt.bar(unique, cnt)"
      ],
      "execution_count": 58,
      "outputs": [
        {
          "output_type": "execute_result",
          "data": {
            "text/plain": [
              "<BarContainer object of 62 artists>"
            ]
          },
          "metadata": {
            "tags": []
          },
          "execution_count": 58
        },
        {
          "output_type": "display_data",
          "data": {
            "image/png": "[encoded data removed]",
            "text/plain": [
              "<Figure size 432x288 with 1 Axes>"
            ]
          },
          "metadata": {
            "tags": [],
            "needs_background": "light"
          }
        }
      ]
    },
    {
      "cell_type": "markdown",
      "metadata": {
        "id": "1M296yz577fV",
        "colab_type": "text"
      },
      "source": [
        "Just in case there are some longer test sentences, I'll set the maximum length to 100.\n"
      ]
    },
    {
      "cell_type": "code",
      "metadata": {
        "id": "2bBdb3pt8LuQ",
        "colab_type": "code",
        "colab": {}
      },
      "source": [
        "# `encode_plus` will:\n",
        "#   (1) Tokenize the sentence.\n",
        "#   (2) Prepend the `[CLS]` token to the start.\n",
        "#   (3) Append the `[SEP]` token to the end.\n",
        "#   (4) Map tokens to their IDs.\n",
        "#   (5) Pad or truncate the sentence to `max_length`\n",
        "#   (6) Create attention masks for [PAD] tokens.\n",
        "\n",
        "def encode(sentences, labels, tokenizer, max_len):\n",
        "    encoded_dicts = [tokenizer.encode_plus(\n",
        "                            sent,                      # Sentence to encode.\n",
        "                            add_special_tokens = True, # Add '[CLS]' and '[SEP]'\n",
        "                            max_length = max_len,           # Pad & truncate all sentences.\n",
        "                            pad_to_max_length = True,\n",
        "                            return_attention_mask = True,   # Construct attn. masks.\n",
        "                            return_tensors = 'pt',     # Return pytorch tensors.\n",
        "                     ) for sent in sentences]\n",
        "    input_ids = [d['input_ids'] for d in encoded_dicts]  \n",
        "    attention_masks = [d['attention_mask'] for d in encoded_dicts]  \n",
        "\n",
        "    # Convert the lists into tensors.\n",
        "    input_ids = torch.cat(input_ids, dim=0)\n",
        "    attention_masks = torch.cat(attention_masks, dim=0)\n",
        "    labels = torch.tensor(labels)\n",
        "\n",
        "    return input_ids, attention_masks, labels"
      ],
      "execution_count": 10,
      "outputs": []
    },
    {
      "cell_type": "code",
      "metadata": {
        "id": "Z-eDLAn17ESW",
        "colab_type": "code",
        "colab": {
          "base_uri": "https://localhost:8080/",
          "height": 221
        },
        "outputId": "1752e62e-abd2-4ba3-e7cd-0bbc07115c08"
      },
      "source": [
        "input_ids, attention_masks, labels = encode(tweets, labels, tokenizer, max_len=100)\n",
        "print('Original: ', tweets[0])\n",
        "print('\\nToken IDs:', input_ids[0])"
      ],
      "execution_count": 11,
      "outputs": [
        {
          "output_type": "stream",
          "text": [
            "Original:  Our Deeds are the Reason of this #earthquake May ALLAH Forgive us all\n",
            "\n",
            "Token IDs: tensor([  101,  2256, 15616,  2024,  1996,  3114,  1997,  2023,  1001,  8372,\n",
            "         2089, 16455,  9641,  2149,  2035,   102,     0,     0,     0,     0,\n",
            "            0,     0,     0,     0,     0,     0,     0,     0,     0,     0,\n",
            "            0,     0,     0,     0,     0,     0,     0,     0,     0,     0,\n",
            "            0,     0,     0,     0,     0,     0,     0,     0,     0,     0,\n",
            "            0,     0,     0,     0,     0,     0,     0,     0,     0,     0,\n",
            "            0,     0,     0,     0,     0,     0,     0,     0,     0,     0,\n",
            "            0,     0,     0,     0,     0,     0,     0,     0,     0,     0,\n",
            "            0,     0,     0,     0,     0,     0,     0,     0,     0,     0,\n",
            "            0,     0,     0,     0,     0,     0,     0,     0,     0,     0])\n"
          ],
          "name": "stdout"
        }
      ]
    },
    {
      "cell_type": "code",
      "metadata": {
        "id": "FIEXgcijQbd8",
        "colab_type": "code",
        "colab": {
          "base_uri": "https://localhost:8080/",
          "height": 374
        },
        "outputId": "c42456e7-90ce-4df3-8500-5e1b23856b06"
      },
      "source": [
        "print(len(input_ids[0]))\n",
        "tokenizer.convert_ids_to_tokens(input_ids[0][:20])"
      ],
      "execution_count": 26,
      "outputs": [
        {
          "output_type": "stream",
          "text": [
            "100\n"
          ],
          "name": "stdout"
        },
        {
          "output_type": "execute_result",
          "data": {
            "text/plain": [
              "['[CLS]',\n",
              " 'our',\n",
              " 'deeds',\n",
              " 'are',\n",
              " 'the',\n",
              " 'reason',\n",
              " 'of',\n",
              " 'this',\n",
              " '#',\n",
              " 'earthquake',\n",
              " 'may',\n",
              " 'allah',\n",
              " 'forgive',\n",
              " 'us',\n",
              " 'all',\n",
              " '[SEP]',\n",
              " '[PAD]',\n",
              " '[PAD]',\n",
              " '[PAD]',\n",
              " '[PAD]']"
            ]
          },
          "metadata": {
            "tags": []
          },
          "execution_count": 26
        }
      ]
    },
    {
      "cell_type": "markdown",
      "metadata": {
        "id": "aRp4O7D295d_",
        "colab_type": "text"
      },
      "source": [
        "## 3.5 Build Train & Validation DatatLoaders\n"
      ]
    },
    {
      "cell_type": "code",
      "metadata": {
        "id": "GEgLpFVlo1Z-",
        "colab_type": "code",
        "colab": {}
      },
      "source": [
        "from torch.utils.data import TensorDataset, random_split, DataLoader, RandomSampler, SequentialSampler\n",
        "\n",
        "def make_dataloader(input_ids, attention_masks, labels, split=1):  \n",
        "    dataset = TensorDataset(input_ids, attention_masks, labels)\n",
        "\n",
        "    if split:\n",
        "        train_size = int(0.9 * len(dataset))\n",
        "        val_size = len(dataset) - train_size\n",
        "        train_dataset, val_dataset = random_split(dataset, [train_size, val_size])\n",
        "        print('{} training samples'.format(train_size))\n",
        "        print('{} validation samples'.format(val_size))\n",
        "    else: \n",
        "        train_dataset = dataset\n",
        "        print(print('{} training samples (no validation)'.format(len(dataset))))\n",
        "\n",
        "    # For fine-tuning BERT on a specific task, the authors recommend a batch size of 16 or 32.\n",
        "    batch_size = 32\n",
        "\n",
        "    train_dataloader = DataLoader(\n",
        "                          train_dataset,  # training samples.\n",
        "                          sampler = RandomSampler(train_dataset), # Select batches randomly\n",
        "                          batch_size = batch_size # Trains with this batch size.\n",
        "                      )\n",
        "\n",
        "    if split:\n",
        "        # For validation the order doesn't matter, so just read them sequentially.\n",
        "        validation_dataloader = DataLoader(\n",
        "                                    val_dataset, # The validation samples.\n",
        "                                    sampler = SequentialSampler(val_dataset), # Pull out batches sequentially.\n",
        "                                    batch_size = batch_size # Evaluate with this batch size.\n",
        "                                )\n",
        "    \n",
        "        return train_dataloader, validation_dataloader\n",
        "\n",
        "    return train_dataloader"
      ],
      "execution_count": 14,
      "outputs": []
    },
    {
      "cell_type": "code",
      "metadata": {
        "id": "XGUqOCtgqGhP",
        "colab_type": "code",
        "colab": {
          "base_uri": "https://localhost:8080/",
          "height": 51
        },
        "outputId": "c262c520-598a-42f0-9957-7f747419ada2"
      },
      "source": [
        "train_dataloader, validation_dataloader = make_dataloader(input_ids, attention_masks, labels)"
      ],
      "execution_count": 38,
      "outputs": [
        {
          "output_type": "stream",
          "text": [
            "6851 training samples\n",
            "762 validation samples\n"
          ],
          "name": "stdout"
        }
      ]
    },
    {
      "cell_type": "markdown",
      "metadata": {
        "id": "8bwa6Rts-02-",
        "colab_type": "text"
      },
      "source": [
        "# 4. Train"
      ]
    },
    {
      "cell_type": "markdown",
      "metadata": {
        "id": "D6TKgyUzPIQc",
        "colab_type": "text"
      },
      "source": [
        "## 4.1. Define Model: BertForSequenceClassification"
      ]
    },
    {
      "cell_type": "code",
      "metadata": {
        "id": "gFsCTp_mporB",
        "colab_type": "code",
        "colab": {}
      },
      "source": [
        "from transformers import BertForSequenceClassification, BertConfig\n",
        "\n",
        "# Load BertForSequenceClassification (pretrained BERT model + a single linear classification layer on top) \n",
        "model = BertForSequenceClassification.from_pretrained(\n",
        "              \"bert-base-uncased\",          # 12-layer BERT base model w/ uncased vocab\n",
        "              num_labels = 2,               # number of output labels (2 for binary classification)  \n",
        "              output_attentions = False,    # returns attentions weights?\n",
        "              output_hidden_states = False, # return all hidden-states?\n",
        "        )\n",
        "model.cuda()"
      ],
      "execution_count": null,
      "outputs": []
    },
    {
      "cell_type": "code",
      "metadata": {
        "id": "ipilMclbISrq",
        "colab_type": "code",
        "colab": {
          "base_uri": "https://localhost:8080/",
          "height": 357
        },
        "outputId": "2b0bdae8-fc56-43ee-96f8-f4b2535841b9"
      },
      "source": [
        "!nvidia-smi"
      ],
      "execution_count": 17,
      "outputs": [
        {
          "output_type": "stream",
          "text": [
            "Tue Jun 23 22:16:35 2020       \n",
            "+-----------------------------------------------------------------------------+\n",
            "| NVIDIA-SMI 450.36.06    Driver Version: 418.67       CUDA Version: 10.1     |\n",
            "|-------------------------------+----------------------+----------------------+\n",
            "| GPU  Name        Persistence-M| Bus-Id        Disp.A | Volatile Uncorr. ECC |\n",
            "| Fan  Temp  Perf  Pwr:Usage/Cap|         Memory-Usage | GPU-Util  Compute M. |\n",
            "|                               |                      |               MIG M. |\n",
            "|===============================+======================+======================|\n",
            "|   0  Tesla T4            Off  | 00000000:00:04.0 Off |                    0 |\n",
            "| N/A   48C    P0    27W /  70W |   1367MiB / 15079MiB |      0%      Default |\n",
            "|                               |                      |                 ERR! |\n",
            "+-------------------------------+----------------------+----------------------+\n",
            "                                                                               \n",
            "+-----------------------------------------------------------------------------+\n",
            "| Processes:                                                                  |\n",
            "|  GPU   GI   CI        PID   Type   Process name                  GPU Memory |\n",
            "|        ID   ID                                                   Usage      |\n",
            "|=============================================================================|\n",
            "|  No running processes found                                                 |\n",
            "+-----------------------------------------------------------------------------+\n"
          ],
          "name": "stdout"
        }
      ]
    },
    {
      "cell_type": "code",
      "metadata": {
        "id": "N7yujJJkI-Z6",
        "colab_type": "code",
        "colab": {
          "base_uri": "https://localhost:8080/",
          "height": 34
        },
        "outputId": "9c2572ef-8c2e-40d3-d4b1-ab8bcd843ce7"
      },
      "source": [
        "next(model.parameters()).is_cuda"
      ],
      "execution_count": 67,
      "outputs": [
        {
          "output_type": "execute_result",
          "data": {
            "text/plain": [
              "True"
            ]
          },
          "metadata": {
            "tags": []
          },
          "execution_count": 67
        }
      ]
    },
    {
      "cell_type": "markdown",
      "metadata": {
        "id": "qRWT-D4U_Pvx",
        "colab_type": "text"
      },
      "source": [
        "## 4.2. Define Optimizer & Learning Rate Scheduler"
      ]
    },
    {
      "cell_type": "markdown",
      "metadata": {
        "id": "8o-VEBobKwHk",
        "colab_type": "text"
      },
      "source": [
        "For fine-tuning, the authors recommend choosing from following values (from Appendix A.3 of the [BERT paper](https://arxiv.org/pdf/1810.04805.pdf)):\n",
        "\n",
        ">- **Batch size:** 16, **32**  \n",
        "- **Learning rate (Adam):** 5e-5, 3e-5, **2e-5**\n",
        "- **Number of epochs:** **2**, 3, 4 \n",
        "\n",
        "*The epsilon parameter `eps = 1e-8` is \"a very small number to prevent any division by zero in the implementation\" (from [here](https://machinelearningmastery.com/adam-optimization-algorithm-for-deep-learning/))."
      ]
    },
    {
      "cell_type": "code",
      "metadata": {
        "id": "GLs72DuMODJO",
        "colab_type": "code",
        "colab": {}
      },
      "source": [
        "from transformers import AdamW \n",
        "\n",
        "# Note: AdamW is a class from the huggingface library (not pytorch)- 'W'= 'Weight Decay fix\"\n",
        "optimizer = AdamW(\n",
        "                    model.parameters(),\n",
        "                    lr = 5e-5,         # default \n",
        "                    eps = 1e-8         # default \n",
        "                )"
      ],
      "execution_count": 37,
      "outputs": []
    },
    {
      "cell_type": "markdown",
      "metadata": {
        "id": "RqfmWwUR_Sox",
        "colab_type": "text"
      },
      "source": [
        "## 4.3. Train"
      ]
    },
    {
      "cell_type": "code",
      "metadata": {
        "id": "9cQNvaZ9bnyy",
        "colab_type": "code",
        "colab": {}
      },
      "source": [
        "import numpy as np\n",
        "import time, datetime\n",
        "\n",
        "# Helper functions\n",
        "def flat_accuracy(preds, labels):\n",
        "    pred_flat = np.argmax(preds, axis=1).flatten()\n",
        "    labels_flat = labels.flatten()\n",
        "\n",
        "    return np.sum(pred_flat == labels_flat) / len(labels_flat)\n",
        "\n",
        "def format_time(elapsed):\n",
        "    '''Takes time in seconds and returns a string hh:mm:ss'''\n",
        "\n",
        "    elapsed_rounded = int(round((elapsed)))  # Round to the nearest second\n",
        "    return str(datetime.timedelta(seconds=elapsed_rounded))  # Format as hh:mm:ss\n",
        "\n",
        "def set_random_seed(seed):\n",
        "    seed_val = 42\n",
        "    random.seed(seed_val)\n",
        "    np.random.seed(seed_val)\n",
        "    torch.manual_seed(seed_val)\n",
        "    torch.cuda.manual_seed_all(seed_val)"
      ],
      "execution_count": 21,
      "outputs": []
    },
    {
      "cell_type": "code",
      "metadata": {
        "id": "xaJFXpbeQAaD",
        "colab_type": "code",
        "colab": {
          "base_uri": "https://localhost:8080/",
          "height": 34
        },
        "outputId": "b3ae13de-0d0b-4225-a86c-1f0767db4413"
      },
      "source": [
        "len(train_dataloader), len(validation_dataloader)"
      ],
      "execution_count": 20,
      "outputs": [
        {
          "output_type": "execute_result",
          "data": {
            "text/plain": [
              "(215, 24)"
            ]
          },
          "metadata": {
            "tags": []
          },
          "execution_count": 20
        }
      ]
    },
    {
      "cell_type": "code",
      "metadata": {
        "id": "6J-FYdx6nFE_",
        "colab_type": "code",
        "colab": {}
      },
      "source": [
        "import random\n",
        "from transformers import get_linear_schedule_with_warmup\n",
        "\n",
        "def train_BERT(train_dataloader, validation_dataloader, model, optimizer, n_epochs, output_hidden=0):   \n",
        "    set_random_seed(seed=42)  # Set seed to make this reproducible.\n",
        "    \n",
        "    total_t0 = time.time()   # Measure the total training time for the whole run.\n",
        "    training_stats = []   # Store training and valid loss, valid accuracy, and timings.\n",
        "    hidden_states = []\n",
        "\n",
        "    # lr scheduler\n",
        "    n_batches_train = len(train_dataloader)\n",
        "    scheduler = get_linear_schedule_with_warmup(  optimizer, \n",
        "                                                  num_warmup_steps = 0, # Default value in run_glue.py\n",
        "                                                  num_training_steps = n_batches_train * n_epochs  )\n",
        "\n",
        "    for epoch_i in range(n_epochs):   \n",
        "        # =================== Training =================== #       \n",
        "        t0 = time.time()   \n",
        "        total_train_loss, total_train_accuracy = 0, 0\n",
        "        model.train()\n",
        "\n",
        "        for step, batch in enumerate(train_dataloader):\n",
        "            input_ids, att_mask, labels = batch[0].to(device), batch[1].to(device), batch[2].to(device)\n",
        "            model.zero_grad()        \n",
        "            if output_hidden:\n",
        "                loss, logits, h = model(input_ids, \n",
        "                                        token_type_ids=None, \n",
        "                                        attention_mask=att_mask, \n",
        "                                        labels=labels)\n",
        "                \n",
        "                h = [layer.detach().cpu().numpy() for layer in h]\n",
        "                if epoch_i == n_epochs - 1: # store the last epoch's hidden states\n",
        "                    hidden_states.append(h[-1]) # only save last layer's h           \n",
        "            else:\n",
        "                loss, logits = model(input_ids, \n",
        "                                    token_type_ids=None, # Not required since training on a SINGLE sentence, not a pair\n",
        "                                    attention_mask=att_mask, \n",
        "                                    labels=labels)\n",
        "                \n",
        "            total_train_loss += loss.item()  \n",
        "            total_train_accuracy += flat_accuracy(logits.detach().cpu().numpy(), labels.detach().cpu().numpy())\n",
        "            loss.backward()\n",
        "            torch.nn.utils.clip_grad_norm_(model.parameters(), 1.0)\n",
        "            optimizer.step()      \n",
        "            scheduler.step()   # Update learning rate\n",
        "        \n",
        "        print(\"Epoch: {}/{}\".format((epoch_i+1), n_epochs),\n",
        "              \"  Train loss: {0:.4f}\".format(total_train_loss/n_batches_train),\n",
        "              \"  Train Acc: {0:.4f}\".format(total_train_accuracy/n_batches_train),\n",
        "              \"  ({:})\".format(format_time(time.time() - t0)))\n",
        "        \n",
        "        training_stats.append( {'epoch':           epoch_i + 1,\n",
        "                                'Training Loss':   total_train_loss/n_batches_train,\n",
        "                                'Training Acc' :   total_train_accuracy/n_batches_train,\n",
        "                                'Training Time':   format_time(time.time() - t0)} )\n",
        "\n",
        "        if validation_dataloader is not None:\n",
        "            # =================== Validation =================== #\n",
        "            n_batches_valid = len(validation_dataloader)\n",
        "            t0 = time.time()\n",
        "            model.eval()\n",
        "\n",
        "            total_eval_accuracy, total_eval_loss = 0, 0\n",
        "            for batch in validation_dataloader:\n",
        "                v_input_ids, v_att_mask, v_labels = batch[0].to(device), batch[1].to(device), batch[2].to(device)\n",
        "                with torch.no_grad(): \n",
        "                    if output_hidden:       \n",
        "                        loss, logits, val_h = model(v_input_ids, \n",
        "                                                    token_type_ids=None, \n",
        "                                                    attention_mask=v_att_mask,\n",
        "                                                    labels=v_labels)\n",
        "                    \n",
        "                        val_h = [layer.detach().cpu().numpy() for layer in val_h] # save GPU memory\n",
        "                    else:\n",
        "                        loss, logits = model(v_input_ids, \n",
        "                                             token_type_ids=None, \n",
        "                                             attention_mask=v_att_mask,\n",
        "                                             labels=v_labels)\n",
        "                total_eval_loss += loss.item()\n",
        "                logits = logits.detach().cpu().numpy()\n",
        "                label_ids = v_labels.detach().cpu().numpy()\n",
        "                total_eval_accuracy += flat_accuracy(logits, label_ids)\n",
        "\n",
        "            print(\"  Valid Loss: {0:.4f}\".format(total_eval_loss/n_batches_valid),\n",
        "                  \"  Valid Acc: {0:.4f}\".format(total_eval_accuracy/n_batches_valid),\n",
        "                  \"  ({:})\".format(format_time(time.time()-t0)))\n",
        "\n",
        "            training_stats.append( {'            Valid. Loss':     total_eval_loss/n_batches_valid,\n",
        "                                    'Valid. Acc':   total_eval_accuracy/n_batches_valid,\n",
        "                                    'Validation Time': format_time(time.time()-t0)} )\n",
        "\n",
        "    print(\"\\nTraining complete.\")\n",
        "    print(\"Duration: {:} (h:mm:ss)\".format(format_time(time.time()-total_t0)))\n",
        "\n",
        "    if output_hidden:\n",
        "        return training_stats, hidden_states\n",
        "    else:\n",
        "        return training_stats"
      ],
      "execution_count": 35,
      "outputs": []
    },
    {
      "cell_type": "code",
      "metadata": {
        "id": "q1GYtfuaQtUs",
        "colab_type": "code",
        "colab": {
          "base_uri": "https://localhost:8080/",
          "height": 136
        },
        "outputId": "0d7fc1e5-0e30-4609-fc65-830b9d41cd42"
      },
      "source": [
        "training_stats = train_BERT(train_dataloader, validation_dataloader, \n",
        "                            model=model, optimizer=optimizer, \n",
        "                            n_epochs=2)"
      ],
      "execution_count": 39,
      "outputs": [
        {
          "output_type": "stream",
          "text": [
            "Epoch: 1/2   Train loss: 0.4424   Train Acc: 0.8048   (0:01:59)\n",
            "  Valid Loss: 0.4162   Valid Acc: 0.8301   (0:00:05)\n",
            "Epoch: 2/2   Train loss: 0.2911   Train Acc: 0.8865   (0:01:59)\n",
            "  Valid Loss: 0.4472   Valid Acc: 0.8223   (0:00:05)\n",
            "\n",
            "Training complete.\n",
            "Duration: 0:04:08 (h:mm:ss)\n"
          ],
          "name": "stdout"
        }
      ]
    },
    {
      "cell_type": "markdown",
      "metadata": {
        "id": "cKCevHQXcyMa",
        "colab_type": "text"
      },
      "source": [
        "## 4.4 Train again w/ ENTIRE data (no validation)"
      ]
    },
    {
      "cell_type": "markdown",
      "metadata": {
        "id": "JGsp-RvNOM0i",
        "colab_type": "text"
      },
      "source": [
        "Now that we observed that 2 epochs are enough in order to prevent overfitting, let's train w/ the entire dataset."
      ]
    },
    {
      "cell_type": "code",
      "metadata": {
        "id": "1LEVYpTma5AD",
        "colab_type": "code",
        "colab": {
          "base_uri": "https://localhost:8080/",
          "height": 51
        },
        "outputId": "5e5a3cbc-22e0-4708-e342-881ddd5bed7b"
      },
      "source": [
        "train_dataloader = make_dataloader(input_ids, attention_masks, labels, split=0)"
      ],
      "execution_count": 40,
      "outputs": [
        {
          "output_type": "stream",
          "text": [
            "7613 training samples (no validation)\n",
            "None\n"
          ],
          "name": "stdout"
        }
      ]
    },
    {
      "cell_type": "code",
      "metadata": {
        "id": "sTLtUpnfbJKX",
        "colab_type": "code",
        "colab": {}
      },
      "source": [
        "model = BertForSequenceClassification.from_pretrained(\n",
        "              \"bert-base-uncased\",          # 12-layer BERT base model, w/ uncased vocab\n",
        "              num_labels = 2,               # number of output labels (2 for binary classification)  \n",
        "              output_attentions = False,    # Whether the model returns attentions weights.\n",
        "              output_hidden_states = False, # Whether the model returns all hidden-states.\n",
        "        )\n",
        "model.cuda()"
      ],
      "execution_count": null,
      "outputs": []
    },
    {
      "cell_type": "code",
      "metadata": {
        "id": "eNwLa0lfaZi7",
        "colab_type": "code",
        "colab": {}
      },
      "source": [
        "optimizer = AdamW(  model.parameters(), lr = 5e-5, eps = 1e-8)"
      ],
      "execution_count": 42,
      "outputs": []
    },
    {
      "cell_type": "code",
      "metadata": {
        "id": "6BcEykI5bpt2",
        "colab_type": "code",
        "colab": {
          "base_uri": "https://localhost:8080/",
          "height": 102
        },
        "outputId": "5513a6a8-b9f3-426d-ed98-1e37306dd327"
      },
      "source": [
        "training_stats = train_BERT(train_dataloader, None,\n",
        "                            model=model, optimizer=optimizer, \n",
        "                            n_epochs=2)"
      ],
      "execution_count": 43,
      "outputs": [
        {
          "output_type": "stream",
          "text": [
            "Epoch: 1/2   Train loss: 0.4403   Train Acc: 0.8029   (0:02:14)\n",
            "Epoch: 2/2   Train loss: 0.2898   Train Acc: 0.8889   (0:02:12)\n",
            "\n",
            "Training complete.\n",
            "Duration: 0:04:26 (h:mm:ss)\n"
          ],
          "name": "stdout"
        }
      ]
    },
    {
      "cell_type": "markdown",
      "metadata": {
        "id": "mkyubuJSOzg3",
        "colab_type": "text"
      },
      "source": [
        "# 5 Predict & Submit"
      ]
    },
    {
      "cell_type": "markdown",
      "metadata": {
        "id": "Tg42jJqqM68F",
        "colab_type": "text"
      },
      "source": [
        "## 5.1 Test Data Preparation\n"
      ]
    },
    {
      "cell_type": "markdown",
      "metadata": {
        "id": "xWe0_JW21MyV",
        "colab_type": "text"
      },
      "source": [
        "\n",
        "We'll need to apply all of the same steps that we did for the training data to prepare our test data set."
      ]
    },
    {
      "cell_type": "code",
      "metadata": {
        "id": "y_V1rDPLWkt5",
        "colab_type": "code",
        "colab": {
          "base_uri": "https://localhost:8080/",
          "height": 85
        },
        "outputId": "e4a13888-0b6c-4668-b6e1-0271c82111e8"
      },
      "source": [
        "test_df = pd.read_csv(\"test.csv\")\n",
        "test_sentences = test_df.text.values\n",
        "test_sentences = [\" \".join([word if 'http://' not in word else \"http\" for word in t.split()]) for t in test_sentences]\n",
        "test_sentences = [\" \".join([word for word in t.split() if '@' not in word]) for t in test_sentences]\n",
        "test_encoded_sentences = [tokenizer.encode(s) for s in test_sentences]\n",
        "test_sent_lens = np.array([len(s) for s in test_encoded_sentences])\n",
        "\n",
        "print('# of sentences:', len(test_sentences))\n",
        "print('Max sentence length: ', max(test_sent_lens))\n",
        "print('Avg sentence length: ', np.mean(test_sent_lens))\n",
        "print('Median sentence length: ', np.median(test_sent_lens))"
      ],
      "execution_count": 46,
      "outputs": [
        {
          "output_type": "stream",
          "text": [
            "# of sentences: 3263\n",
            "Max sentence length:  73\n",
            "Avg sentence length:  23.593931964449894\n",
            "Median sentence length:  23.0\n"
          ],
          "name": "stdout"
        }
      ]
    },
    {
      "cell_type": "code",
      "metadata": {
        "id": "mAN0LZBOOPVh",
        "colab_type": "code",
        "colab": {}
      },
      "source": [
        "encoded_dicts = [tokenizer.encode_plus(  sent,                      \n",
        "                                         add_special_tokens = True, \n",
        "                                         max_length = 100,          \n",
        "                                         pad_to_max_length = True,\n",
        "                                         return_attention_mask = True,   \n",
        "                                         return_tensors = 'pt'  ) for sent in test_sentences]\n",
        "input_ids = [d['input_ids'] for d in encoded_dicts]  \n",
        "input_ids = torch.cat(input_ids, dim=0)\n",
        "attention_masks = [d['attention_mask'] for d in encoded_dicts]  \n",
        "attention_masks = torch.cat(attention_masks, dim=0)\n",
        "\n",
        "prediction_data = TensorDataset(input_ids, attention_masks)\n",
        "prediction_dataloader = DataLoader(dataset = prediction_data, \n",
        "                                   sampler = SequentialSampler(prediction_data), # doesn't need to be sampled randomly\n",
        "                                   batch_size = 32)"
      ],
      "execution_count": 47,
      "outputs": []
    },
    {
      "cell_type": "markdown",
      "metadata": {
        "id": "16lctEOyNFik",
        "colab_type": "text"
      },
      "source": [
        "## 5.2 Predict Test Set\n"
      ]
    },
    {
      "cell_type": "code",
      "metadata": {
        "id": "Ns-iHe7hqA1B",
        "colab_type": "code",
        "colab": {
          "base_uri": "https://localhost:8080/",
          "height": 34
        },
        "outputId": "7dc8c78b-2fd2-4a65-bab4-b8b99eaadc6b"
      },
      "source": [
        "len(prediction_dataloader)"
      ],
      "execution_count": 48,
      "outputs": [
        {
          "output_type": "execute_result",
          "data": {
            "text/plain": [
              "102"
            ]
          },
          "metadata": {
            "tags": []
          },
          "execution_count": 48
        }
      ]
    },
    {
      "cell_type": "code",
      "metadata": {
        "id": "Hba10sXR7Xi6",
        "colab_type": "code",
        "colab": {
          "base_uri": "https://localhost:8080/",
          "height": 51
        },
        "outputId": "239cafe2-ccc4-4184-ed91-bad89359911e"
      },
      "source": [
        "print('Predicting labels for {:,} test sentences...'.format(len(input_ids)))\n",
        "model.eval()\n",
        "predictions, true_labels = [], []\n",
        "for batch in prediction_dataloader:\n",
        "    batch = tuple(t.to(device) for t in batch)\n",
        "    b_input_ids, b_input_mask = batch\n",
        "    with torch.no_grad():\n",
        "        logits = model(  b_input_ids, \n",
        "                         token_type_ids=None, \n",
        "                         attention_mask=b_input_mask  ) # no loss, since \"labels\" not provided\n",
        "\n",
        "    logits = logits[0].detach().cpu().numpy() # extract x from [[x]]\n",
        "    predictions.append(logits)\n",
        "print('    DONE.')"
      ],
      "execution_count": 49,
      "outputs": [
        {
          "output_type": "stream",
          "text": [
            "Predicting labels for 3,263 test sentences...\n",
            "    DONE.\n"
          ],
          "name": "stdout"
        }
      ]
    },
    {
      "cell_type": "code",
      "metadata": {
        "id": "iqaLdQM4p0V2",
        "colab_type": "code",
        "colab": {}
      },
      "source": [
        "flat_predictions = np.concatenate(predictions, axis=0)\n",
        "flat_predictions = np.argmax(flat_predictions, axis=1).flatten()"
      ],
      "execution_count": 50,
      "outputs": []
    },
    {
      "cell_type": "markdown",
      "metadata": {
        "id": "TFw1qX85gvby",
        "colab_type": "text"
      },
      "source": [
        "## 5.3 Make Submission File"
      ]
    },
    {
      "cell_type": "code",
      "metadata": {
        "id": "9hYzcna8bfms",
        "colab_type": "code",
        "colab": {}
      },
      "source": [
        "submission = pd.DataFrame(test_df.id)\n",
        "submission['target'] = flat_predictions\n",
        "submission.to_csv('submission_6_23_17_10.csv', index=False)"
      ],
      "execution_count": 51,
      "outputs": []
    },
    {
      "cell_type": "code",
      "metadata": {
        "id": "NiO2qrS2cmR_",
        "colab_type": "code",
        "colab": {}
      },
      "source": [
        ""
      ],
      "execution_count": null,
      "outputs": []
    }
  ]
}